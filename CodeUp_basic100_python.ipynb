{
 "cells": [
  {
   "cell_type": "markdown",
   "metadata": {},
   "source": [
    "# 1001 : [기초-출력] 출력하기01"
   ]
  },
  {
   "cell_type": "code",
   "execution_count": null,
   "metadata": {},
   "outputs": [],
   "source": [
    "print(\"Hello\")"
   ]
  },
  {
   "cell_type": "markdown",
   "metadata": {},
   "source": [
    "# 1003 : [기초-출력] 출력하기03"
   ]
  },
  {
   "cell_type": "code",
   "execution_count": null,
   "metadata": {},
   "outputs": [],
   "source": [
    "print(\"Hello\\nWorld\")"
   ]
  },
  {
   "cell_type": "markdown",
   "metadata": {},
   "source": [
    "# 1004 : [기초-출력] 출력하기04"
   ]
  },
  {
   "cell_type": "code",
   "execution_count": null,
   "metadata": {},
   "outputs": [],
   "source": [
    "print(\"\\'Hello\\'\")"
   ]
  },
  {
   "cell_type": "markdown",
   "metadata": {},
   "source": [
    "# 1005 : [기초-출력] 출력하기05"
   ]
  },
  {
   "cell_type": "code",
   "execution_count": null,
   "metadata": {},
   "outputs": [],
   "source": [
    "print(\"\\\"Hello World\\\"\")"
   ]
  },
  {
   "cell_type": "markdown",
   "metadata": {},
   "source": [
    "# 1006 : [기초-출력] 출력하기06"
   ]
  },
  {
   "cell_type": "code",
   "execution_count": null,
   "metadata": {},
   "outputs": [],
   "source": [
    "print(\"\\\"!@#$%^&*()\\\"\")"
   ]
  },
  {
   "cell_type": "markdown",
   "metadata": {},
   "source": [
    "# 1007 : [기초-출력] 출력하기07"
   ]
  },
  {
   "cell_type": "code",
   "execution_count": null,
   "metadata": {},
   "outputs": [],
   "source": [
    "print(\"\\\"C:\\Download\\hello.cpp\\\"\")"
   ]
  },
  {
   "cell_type": "markdown",
   "metadata": {},
   "source": [
    "# 1008 : [기초-출력] 출력하기08"
   ]
  },
  {
   "cell_type": "code",
   "execution_count": null,
   "metadata": {},
   "outputs": [],
   "source": [
    "print(\"\\u250C\\u252C\\u2510\\n\\u251C\\u253C\\u2524\\n\\u2514\\u2534\\u2518\")"
   ]
  },
  {
   "cell_type": "markdown",
   "metadata": {},
   "source": [
    "# 1010 : [기초-입출력] 정수 1개 입력받아 그대로 출력하기"
   ]
  },
  {
   "cell_type": "code",
   "execution_count": null,
   "metadata": {},
   "outputs": [],
   "source": [
    "x = int(input())\n",
    "print(x)"
   ]
  },
  {
   "cell_type": "markdown",
   "metadata": {},
   "source": [
    "# 1011 : [기초-입출력] 문자 1개 입력받아 그대로 출력하기"
   ]
  },
  {
   "cell_type": "code",
   "execution_count": null,
   "metadata": {},
   "outputs": [],
   "source": [
    "y = input()\n",
    "print(y)\n",
    "print(type(y))"
   ]
  },
  {
   "cell_type": "code",
   "execution_count": null,
   "metadata": {},
   "outputs": [],
   "source": [
    "y = str(input())\n",
    "print(y)\n",
    "print(type(y))"
   ]
  },
  {
   "cell_type": "markdown",
   "metadata": {},
   "source": [
    "# 1012 : [기초-입출력] 실수 1개 입력받아 그대로 출력하기\n",
    "**<span style=\"color:red\">[다시풀기]</span>**"
   ]
  },
  {
   "cell_type": "markdown",
   "metadata": {},
   "source": [
    "### 오답"
   ]
  },
  {
   "cell_type": "code",
   "execution_count": null,
   "metadata": {},
   "outputs": [],
   "source": [
    "x = input()\n",
    "print(float(x))"
   ]
  },
  {
   "cell_type": "markdown",
   "metadata": {},
   "source": [
    "# 1013 : [기초-입출력] 정수 2개 입력받아 그대로 출력하기\n",
    "**<span style=\"color:red\">[정답확인+다시풀어보기]</span>**"
   ]
  },
  {
   "cell_type": "markdown",
   "metadata": {},
   "source": [
    "### 정답"
   ]
  },
  {
   "cell_type": "code",
   "execution_count": null,
   "metadata": {},
   "outputs": [],
   "source": [
    "x, y = input().split()\n",
    "print('{} {}'.format(x, y))"
   ]
  },
  {
   "cell_type": "markdown",
   "metadata": {},
   "source": [
    "# 1014 : [기초-입출력] 문자 2개 입력받아 순서 바꿔 출력하기\n",
    "**<span style=\"color:red\">[정답확인+다시풀어보기]</span>**"
   ]
  },
  {
   "cell_type": "markdown",
   "metadata": {},
   "source": [
    "### 정답"
   ]
  },
  {
   "cell_type": "code",
   "execution_count": null,
   "metadata": {},
   "outputs": [],
   "source": [
    "x, y = input().split()\n",
    "print('{} {}'.format(y, x))"
   ]
  },
  {
   "cell_type": "markdown",
   "metadata": {},
   "source": [
    " # 1015 : [기초-입출력] 실수 입력받아 둘째 자리까지 출력하기\n",
    "<span style=\"color:red\">[해결여부: 해결]</span><p>\n",
    "<span style=\"color:red\">[해결시기: 2번째]</span><p>\n",
    "<span style=\"color:red\">[복습횟수: 0회]</span>"
   ]
  },
  {
   "cell_type": "code",
   "execution_count": null,
   "metadata": {},
   "outputs": [],
   "source": [
    "x = input()\n",
    "print('%0.2f' % float(x))"
   ]
  },
  {
   "cell_type": "markdown",
   "metadata": {},
   "source": [
    "# 1017 : [기초-입출력] 정수 1개 입력받아 3번 출력하기\n",
    "<span style=\"color:blue\">[해결여부: 해결]</span><p>\n",
    "<span style=\"color:red\">[해결시기: 즉시]</span><p>\n",
    "<span style=\"color:red\">[복습횟수: 0회]</span>"
   ]
  },
  {
   "cell_type": "code",
   "execution_count": null,
   "metadata": {},
   "outputs": [],
   "source": [
    "x = input()\n",
    "print('{}'.format((x+' ')*3))"
   ]
  },
  {
   "cell_type": "markdown",
   "metadata": {},
   "source": [
    "# 1018 : [기초-입출력] 시간 입력받아 그대로 출력하기\n",
    "<span style=\"color:blue\">[해결여부: 해결]</span><p>\n",
    "<span style=\"color:red\">[해결시기: 즉시]</span><p>\n",
    "<span style=\"color:red\">[복습횟수: 0회]</span>"
   ]
  },
  {
   "cell_type": "code",
   "execution_count": null,
   "metadata": {},
   "outputs": [],
   "source": [
    "x = input()\n",
    "print('{}'.format(x))"
   ]
  },
  {
   "cell_type": "markdown",
   "metadata": {},
   "source": [
    "# 1019 : [기초-입출력] 연월일 입력받아 그대로 출력하기\n",
    "<span style=\"color:blue\">[해결여부:해결]</span><p>\n",
    "<span style=\"color:red\">[해결시기:5번째 ]</span><p>\n",
    "<span style=\"color:red\">[복습횟수:0회]</span><p>\n",
    "문제를 풀기 위해서는 split메소드 사용법과, %서식에 대해서 알아야 한다."
   ]
  },
  {
   "cell_type": "code",
   "execution_count": 40,
   "metadata": {},
   "outputs": [
    {
     "name": "stdout",
     "output_type": "stream",
     "text": [
      "0011.11.11\n",
      "0011.11.11\n"
     ]
    }
   ],
   "source": [
    "year, month, day = map(int,input().split('.'))\n",
    "print('%04d.%02d.%02d'% (year,month,day))"
   ]
  },
  {
   "cell_type": "markdown",
   "metadata": {},
   "source": [
    "# 1020 : [기초-입출력] 주민번호 입력받아 형태 바꿔 출력하기\n",
    "<span style=\"color:blue\">[해결여부: 해결]</span><p>\n",
    "<span style=\"color:red\">[해결시기:5번째]</span><p>\n",
    "<span style=\"color:red\">[복습횟수: 1회]</span>"
   ]
  },
  {
   "cell_type": "code",
   "execution_count": null,
   "metadata": {},
   "outputs": [],
   "source": [
    "jumin1, jumin2 = map(int,input().split('-'))\n",
    "print('%06d%07d'%(jumin1,jumin2))"
   ]
  },
  {
   "cell_type": "markdown",
   "metadata": {},
   "source": [
    "# 1021 : [기초-입출력] 단어 1개 입력받아 그대로 출력하기(설명)\n",
    "* <span style=\"color:blue\">해결여부: 해결</span><p>\n",
    "* <span style=\"color:blue\">해결시기: 즉시</span><p>\n",
    "* <span style=\"color:red\">복습횟수: 0회</span>"
   ]
  },
  {
   "cell_type": "code",
   "execution_count": null,
   "metadata": {},
   "outputs": [],
   "source": [
    "x = input()\n",
    "print(x)"
   ]
  },
  {
   "cell_type": "markdown",
   "metadata": {},
   "source": [
    "# 1022 : [기초-입출력] 문장 1개 입력받아 그대로 출력하기\n",
    "* <span style=\"color:blue\">해결여부: 해결</span><p>\n",
    "* <span style=\"color:blue\">해결시기: 즉시</span><p>\n",
    "* <span style=\"color:red\">복습횟수: 0회</span>"
   ]
  },
  {
   "cell_type": "code",
   "execution_count": null,
   "metadata": {},
   "outputs": [],
   "source": [
    "x = input()\n",
    "print(x)"
   ]
  },
  {
   "cell_type": "markdown",
   "metadata": {},
   "source": [
    "# 1023 : [기초-입출력] 실수 1개 입력받아 부분별로 출력하기\n",
    "* <span style=\"color:red\">해결여부:미해결 </span><p>\n",
    "* <span style=\"color:red\">해결시기: </span><p>\n",
    "* <span style=\"color:red\">복습횟수: 0회</span>"
   ]
  },
  {
   "cell_type": "code",
   "execution_count": 29,
   "metadata": {},
   "outputs": [
    {
     "name": "stdout",
     "output_type": "stream",
     "text": [
      "2.2222222222\n",
      "2\n",
      "2222222222\n"
     ]
    }
   ],
   "source": [
    "data = [int(x) for x in input().split('.')]\n",
    "print(data[0])\n",
    "print(data[1])"
   ]
  },
  {
   "cell_type": "markdown",
   "metadata": {},
   "source": [
    "# 1024 : [기초-입출력] 단어 1개 입력받아 나누어 출력하기"
   ]
  },
  {
   "cell_type": "code",
   "execution_count": null,
   "metadata": {},
   "outputs": [],
   "source": [
    "x = input()\n",
    "print(x[0])\n",
    "print(x[1])\n",
    "print(x[2])\n",
    "print(x[3])"
   ]
  },
  {
   "cell_type": "markdown",
   "metadata": {},
   "source": [
    "# 1025 : [기초-입출력] 정수 1개 입력받아 나누어 출력하기"
   ]
  },
  {
   "cell_type": "code",
   "execution_count": null,
   "metadata": {},
   "outputs": [],
   "source": []
  },
  {
   "cell_type": "markdown",
   "metadata": {},
   "source": [
    "# 1026 : [기초-입출력] 시분초 입력받아 분만 출력하기"
   ]
  },
  {
   "cell_type": "code",
   "execution_count": null,
   "metadata": {},
   "outputs": [],
   "source": []
  },
  {
   "cell_type": "code",
   "execution_count": null,
   "metadata": {},
   "outputs": [],
   "source": []
  },
  {
   "cell_type": "code",
   "execution_count": null,
   "metadata": {},
   "outputs": [],
   "source": []
  },
  {
   "cell_type": "markdown",
   "metadata": {},
   "source": [
    "# 1027 : [기초-입출력] 년월일 입력 받아 형식 바꿔 출력하기"
   ]
  },
  {
   "cell_type": "code",
   "execution_count": null,
   "metadata": {},
   "outputs": [],
   "source": []
  }
 ],
 "metadata": {
  "kernelspec": {
   "display_name": "Python 3",
   "language": "python",
   "name": "python3"
  },
  "language_info": {
   "codemirror_mode": {
    "name": "ipython",
    "version": 3
   },
   "file_extension": ".py",
   "mimetype": "text/x-python",
   "name": "python",
   "nbconvert_exporter": "python",
   "pygments_lexer": "ipython3",
   "version": "3.7.6"
  }
 },
 "nbformat": 4,
 "nbformat_minor": 4
}
